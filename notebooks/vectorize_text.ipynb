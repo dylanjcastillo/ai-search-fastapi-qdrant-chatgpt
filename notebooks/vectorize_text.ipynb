{
 "cells": [
  {
   "cell_type": "code",
   "execution_count": 17,
   "metadata": {},
   "outputs": [],
   "source": [
    "import sys\n",
    "\n",
    "sys.path.append(\"..\")\n",
    "\n",
    "import json\n",
    "\n",
    "import numpy as np\n",
    "import pandas as pd\n",
    "import torch\n",
    "\n",
    "from qdrant_client import QdrantClient\n",
    "from qdrant_client.http import models\n",
    "from sentence_transformers import SentenceTransformer\n",
    "\n",
    "from tqdm.notebook import tqdm\n",
    "\n",
    "from config import QDRANT_HOST, QDRANT_PORT, QDRANT_API_KEY, DATA, COLLECTION_NAME\n"
   ]
  },
  {
   "attachments": {},
   "cell_type": "markdown",
   "metadata": {},
   "source": [
    "## Set relevant parameters\n"
   ]
  },
  {
   "cell_type": "code",
   "execution_count": 18,
   "metadata": {},
   "outputs": [],
   "source": [
    "BOOK_FILENAME = \"Marcus_Aurelius_Antoninus_-_His_Meditations_concerning_himselfe\"\n"
   ]
  },
  {
   "attachments": {},
   "cell_type": "markdown",
   "metadata": {},
   "source": [
    "## Connect to Qdrant and create collection\n"
   ]
  },
  {
   "cell_type": "code",
   "execution_count": 19,
   "metadata": {},
   "outputs": [
    {
     "data": {
      "text/plain": [
       "True"
      ]
     },
     "execution_count": 19,
     "metadata": {},
     "output_type": "execute_result"
    }
   ],
   "source": [
    "client = QdrantClient(host=QDRANT_HOST, port=QDRANT_PORT, api_key=QDRANT_API_KEY)\n",
    "client.recreate_collection(\n",
    "    collection_name=COLLECTION_NAME,\n",
    "    vectors_config=models.VectorParams(size=384, distance=models.Distance.COSINE),\n",
    ")\n"
   ]
  },
  {
   "attachments": {},
   "cell_type": "markdown",
   "metadata": {},
   "source": [
    "## Read sentences\n"
   ]
  },
  {
   "cell_type": "code",
   "execution_count": 20,
   "metadata": {},
   "outputs": [
    {
     "data": {
      "application/vnd.jupyter.widget-view+json": {
       "model_id": "a03cea70d4bb4ed5b3bfe6fc8ceda83b",
       "version_major": 2,
       "version_minor": 0
      },
      "text/plain": [
       "  0%|          | 0/12 [00:00<?, ?it/s]"
      ]
     },
     "metadata": {},
     "output_type": "display_data"
    }
   ],
   "source": [
    "with open(f\"{DATA}/processed/{BOOK_FILENAME}/{BOOK_FILENAME}.json\", \"r\") as file:\n",
    "    meditations_json = json.load(file)\n",
    "\n",
    "rows = []\n",
    "for chapter in tqdm(meditations_json[\"data\"]):\n",
    "    for sentence in chapter[\"sentences\"]:\n",
    "        rows.append(\n",
    "            (\n",
    "                chapter[\"title\"],\n",
    "                chapter[\"url\"],\n",
    "                sentence,\n",
    "            )\n",
    "        )\n",
    "\n",
    "df = pd.DataFrame(data=rows, columns=[\"title\", \"url\", \"sentence\"])\n",
    "\n",
    "df = df[df[\"sentence\"].str.split().str.len() > 15]\n"
   ]
  },
  {
   "attachments": {},
   "cell_type": "markdown",
   "metadata": {},
   "source": [
    "## Vectorize sentences\n"
   ]
  },
  {
   "cell_type": "code",
   "execution_count": 22,
   "metadata": {},
   "outputs": [
    {
     "data": {
      "application/vnd.jupyter.widget-view+json": {
       "model_id": "7e2f0ebf6301409a8903666b84f0db21",
       "version_major": 2,
       "version_minor": 0
      },
      "text/plain": [
       "  0%|          | 0/634 [00:00<?, ?it/s]"
      ]
     },
     "metadata": {},
     "output_type": "display_data"
    },
    {
     "data": {
      "text/plain": [
       "UpdateResult(operation_id=0, status=<UpdateStatus.COMPLETED: 'completed'>)"
      ]
     },
     "execution_count": 22,
     "metadata": {},
     "output_type": "execute_result"
    }
   ],
   "source": [
    "model = SentenceTransformer(\n",
    "    \"msmarco-MiniLM-L-6-v3\",\n",
    "    device=\"cuda\"\n",
    "    if torch.cuda.is_available()\n",
    "    else \"mps\"\n",
    "    if torch.backends.mps.is_available()\n",
    "    else \"cpu\",\n",
    ")\n",
    "\n",
    "vectors = []\n",
    "batch_size = 512\n",
    "batch = []\n",
    "\n",
    "for doc in tqdm(df[\"sentence\"].to_list()):\n",
    "    batch.append(doc)\n",
    "\n",
    "    if len(batch) >= batch_size:\n",
    "        vectors.append(model.encode(batch))\n",
    "        batch = []\n",
    "\n",
    "if len(batch) > 0:\n",
    "    vectors.append(model.encode(batch))\n",
    "    batch = []\n",
    "\n",
    "vectors = np.concatenate(vectors)\n",
    "\n",
    "book_name = meditations_json[\"book_title\"]\n",
    "\n",
    "client.upsert(\n",
    "    collection_name=COLLECTION_NAME,\n",
    "    points=models.Batch(\n",
    "        ids=[i for i in range(df.shape[0])],\n",
    "        payloads=[\n",
    "            {\n",
    "                \"text\": row[\"sentence\"],\n",
    "                \"title\": row[\"title\"] + f\", {book_name}\",\n",
    "                \"url\": row[\"url\"],\n",
    "            }\n",
    "            for _, row in df.iterrows()\n",
    "        ],\n",
    "        vectors=[v.tolist() for v in vectors],\n",
    "    ),\n",
    ")\n"
   ]
  }
 ],
 "metadata": {
  "kernelspec": {
   "display_name": ".venv",
   "language": "python",
   "name": "python3"
  },
  "language_info": {
   "codemirror_mode": {
    "name": "ipython",
    "version": 3
   },
   "file_extension": ".py",
   "mimetype": "text/x-python",
   "name": "python",
   "nbconvert_exporter": "python",
   "pygments_lexer": "ipython3",
   "version": "3.10.4"
  },
  "orig_nbformat": 4,
  "vscode": {
   "interpreter": {
    "hash": "7f7d7ce7694bb4f4c294d506e5b6dc7957106f5332d820f0757e3d8cd7b1bbf8"
   }
  }
 },
 "nbformat": 4,
 "nbformat_minor": 2
}
